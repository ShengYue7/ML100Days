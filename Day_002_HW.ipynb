{
 "cells": [
  {
   "cell_type": "markdown",
   "metadata": {},
   "source": [
    "## [作業目標]\n",
    "了解機器學習適合應用的領域與範疇。"
   ]
  },
  {
   "cell_type": "markdown",
   "metadata": {},
   "source": [
    "## [作業重點]\n",
    "透過瞭解機器學習的運作方式，找出非常適用機器學習應用的領域及其原因"
   ]
  },
  {
   "cell_type": "markdown",
   "metadata": {},
   "source": [
    "## 作業\n",
    "請找出一個你認為機器學習可以發光發熱的領域並闡述原因? "
   ]
  },
  {
   "cell_type": "markdown",
   "metadata": {},
   "source": [
    "我認為機器學習可以發展的領域非常多元，像是在廠房，我們需要透過機械手臂來運輸貨料，又或是透過Sensor來檢測成品的品質，甚至需要預測機房內的突發狀況，達到提前預警的效果以防止人員安全與機台受損的問題，因此\"廠房自動化\"應是一個很好運用的領域，主要可能要進行的項目，便是機台的提前預警(像是執行週期越來越長)、製成的排成自動化，以及像是能透過EDA的相關數據做資料分析與訓練模型。\n",
    "\n",
    "再者，我認為他可以發展在商業上的數據分析，像是我今天假如是一家便利商店，我可以透過每日的銷售商品便可以掌握客戶的喜好，知道該進貨什麼樣的商品供客人採購，減少進貨可能購買意願較低的商品，甚至也可以透過這些數據去分析客戶的偏好，去生產新的商品，並確保銷售量不會像以前的新產品般需要猜消費者的心理，可用於商業的\"大數據分析\"，去計算出未來的更多利潤。"
   ]
  }
 ],
 "metadata": {
  "kernelspec": {
   "display_name": "Python 3",
   "language": "python",
   "name": "python3"
  },
  "language_info": {
   "codemirror_mode": {
    "name": "ipython",
    "version": 3
   },
   "file_extension": ".py",
   "mimetype": "text/x-python",
   "name": "python",
   "nbconvert_exporter": "python",
   "pygments_lexer": "ipython3",
   "version": "3.6.4"
  }
 },
 "nbformat": 4,
 "nbformat_minor": 2
}
