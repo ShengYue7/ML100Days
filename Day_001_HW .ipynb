{
 "cells": [
  {
   "cell_type": "markdown",
   "metadata": {},
   "source": [
    "## 練習時間\n",
    "#### 請寫一個函式用來計算 Mean Square Error\n",
    "$ MSE = \\frac{1}{n}\\sum_{i=1}^{n}{(Y_i - \\hat{Y}_i)^2} $\n",
    "\n",
    "### Hint: [如何取平方](https://googoodesign.gitbooks.io/-ezpython/unit-1.html)"
   ]
  },
  {
   "cell_type": "markdown",
   "metadata": {},
   "source": [
    "# [作業目標]\n",
    "- 仿造範例的MAE函數, 自己寫一個MSE函數(參考上面公式)"
   ]
  },
  {
   "cell_type": "markdown",
   "metadata": {},
   "source": [
    "# [作業重點]\n",
    "- 注意程式的縮排\n",
    "- 是否能將數學公式, 轉換為 Python 的函式組合? (In[2], Out[2])"
   ]
  },
  {
   "cell_type": "code",
   "execution_count": 2,
   "metadata": {},
   "outputs": [],
   "source": [
    "# 載入基礎套件與代稱\n",
    "import numpy as np\n",
    "import matplotlib.pyplot as plt"
   ]
  },
  {
   "cell_type": "code",
   "execution_count": 34,
   "metadata": {},
   "outputs": [],
   "source": [
    "def mean_absolute_error(y, yp):\n",
    "    \"\"\"\n",
    "    計算 MAE\n",
    "    Args:\n",
    "        - y: 實際值\n",
    "        - yp: 預測值\n",
    "    Return:\n",
    "        - mae: MAE\n",
    "    \"\"\"\n",
    "    mae = MAE=sum(abs(y - yp)) / len(y)\n",
    "    return mae\n",
    "\n",
    "# 定義 mean_squared_error 這個函數, 計算並傳回 MSE\n",
    "def mean_squared_error(y,yp):\n",
    "    \"\"\"\n",
    "    請完成這個 Function 後往下執行\n",
    "    \"\"\"\n",
    "    mse=MSE=sum((y-yp)**2)/len(y)\n",
    "    return mse"
   ]
  },
  {
   "cell_type": "code",
   "execution_count": 35,
   "metadata": {
    "scrolled": true
   },
   "outputs": [
    {
     "data": {
      "image/png": "[encoded data removed]",
      "text/plain": [
       "<matplotlib.figure.Figure at 0x1cf1a04f898>"
      ]
     },
     "metadata": {},
     "output_type": "display_data"
    }
   ],
   "source": [
    "# 與範例相同, 不另外解說\n",
    "w = 3\n",
    "b = 0.5\n",
    "x_lin = np.linspace(0, 100, 101)\n",
    "y = (x_lin + np.random.randn(101) * 5) * w + b\n",
    "\n",
    "plt.plot(x_lin, y, 'b.', label = 'data points')\n",
    "plt.title(\"Assume we have data points\")\n",
    "plt.legend(loc = 2)\n",
    "plt.show()"
   ]
  },
  {
   "cell_type": "code",
   "execution_count": 36,
   "metadata": {},
   "outputs": [
    {
     "data": {
      "image/png": "[encoded data removed]",
      "text/plain": [
       "<matplotlib.figure.Figure at 0x1cf1a367b70>"
      ]
     },
     "metadata": {},
     "output_type": "display_data"
    }
   ],
   "source": [
    "# 與範例相同, 不另外解說\n",
    "y_hat = x_lin * w + b\n",
    "plt.plot(x_lin, y, 'b.', label = 'data')\n",
    "plt.plot(x_lin, y_hat, 'r-', label = 'prediction')\n",
    "plt.title(\"Assume we have data points (And the prediction)\")\n",
    "plt.legend(loc = 2)\n",
    "plt.show()"
   ]
  },
  {
   "cell_type": "code",
   "execution_count": 37,
   "metadata": {},
   "outputs": [
    {
     "name": "stdout",
     "output_type": "stream",
     "text": [
      "The Mean squared error is 196.759\n",
      "The Mean absolute error is 11.288\n"
     ]
    }
   ],
   "source": [
    "# 執行 Function, 確認有沒有正常執行\n",
    "MSE = mean_squared_error(y, y_hat)\n",
    "MAE = mean_absolute_error(y, y_hat)\n",
    "print(\"The Mean squared error is %.3f\" % (MSE))\n",
    "print(\"The Mean absolute error is %.3f\" % (MAE))"
   ]
  },
  {
   "cell_type": "markdown",
   "metadata": {},
   "source": [
    "# [作業2]\n",
    "\n",
    "請上 Kaggle, 在 Competitions 或 Dataset 中找一組競賽或資料並寫下：\n",
    "\n",
    "1. 你選的這組資料為何重要\n",
    "\n",
    "2. 資料從何而來 (tips: 譬如提供者是誰、以什麼方式蒐集)\n",
    "\n",
    "3. 蒐集而來的資料型態為何\n",
    "\n",
    "4. 這組資料想解決的問題如何評估\n",
    "\n",
    "# [作業3]\n",
    "\n",
    "想像你經營一個自由載客車隊，你希望能透過數據分析以提升業績，請你思考並描述你如何規劃整體的分析/解決方案：\n",
    "\n",
    "1. 核心問題為何 (tips：如何定義 「提升業績 & 你的假設」)\n",
    "\n",
    "2. 資料從何而來 (tips：哪些資料可能會對你想問的問題產生影響 & 資料如何蒐集)\n",
    "\n",
    "3. 蒐集而來的資料型態為何\n",
    "\n",
    "4. 你要回答的問題，其如何評估 (tips：你的假設如何驗證)"
   ]
  },
  {
   "cell_type": "markdown",
   "metadata": {},
   "source": [
    "## 作業2回答:\n",
    "\n",
    "主要使用的資料是\n",
    "因為之後想要進行對於交通通訊上的相關研究，此為\"各類車種通行量統計\"，為依車輛種類通過單一偵測站統計之交通量，主要來自交通部高速公路局交通資料庫。\n",
    "\n",
    "https://tisvcloud.freeway.gov.tw/history/TDCS/M03A/\n",
    "\n",
    "交通部高速公路局交通資料庫: https://tisvcloud.freeway.gov.tw/\n",
    "\n",
    "### 1.你選的這組資料為何重要\n",
    "在今年因為疫情的關係，大家起初都待在家裡足不出戶，而也隨著時間流逝，疫情也逐漸降緩，民眾紛紛開車出門遊玩，但這同時也造成了交通壅塞與發生事故的機率上升，為此我想透過這組資料做相關研究。\n",
    "\n",
    "### 2.資料從何而來 (tips: 譬如提供者是誰、以什麼方式蒐集)\n",
    "資料來自於交通部高速公路局交通資料庫，來源為｢高快速公路整體路網交通管理系統｣與｢高速公路電子收費系統｣，資料免費提供下載使用。\n",
    "\n",
    "### 3.蒐集而來的資料型態為何\n",
    "csv檔。\n",
    "\n",
    "### 4.這組資料想解決的問題如何評估\n",
    "因這組資料較可以瞭解到一個偵測站的車流量，因此欲解決國道車流變化與事件發生之相關性以及像是國道事件與事故之關聯性探討。"
   ]
  },
  {
   "cell_type": "markdown",
   "metadata": {},
   "source": [
    "## 作業3回答:\n",
    "\n",
    "### 1.核心問題為何 (tips：如何定義 「提升業績 & 你的假設」)\n",
    "最主要應該是要想如何在有限時間內賺取更多的金額，而這個就必須去設想到像一小時能賺多少錢，那今後要增加至少20%或甚至是30%的金額，就要想要怎麼在單位時間內增加自己的載客數。\n",
    "### 2.資料從何而來 (tips：哪些資料可能會對你想問的問題產生影響 & 資料如何蒐集)\n",
    "可以透過車隊的同仁協助登記自己得載客數以及地點，並依據地圖能需要叫車的地點與同仁提供的數據做資料庫，並做分布分析，計算哪個時間點會是最多人想搭車，哪個地點是最大需求的市場。\n",
    "### 3.蒐集而來的資料型態為何\n",
    "多半是csv、json以及xml檔\n",
    "### 4.你要回答的問題，其如何評估 (tips：你的假設如何驗證)\n",
    "最主要需考量到為何客戶要選擇我們的服務，是因為價錢比其他車隊便宜還是服務比其他車隊親切，又或是車子的舒適度比其他車隊要來的舒適，而這都會因為跳表定價、司機素質及車子設備，而同時我們也要想客戶是何時比較會迫切我們的服務，像下雨天沒有帶傘，或是要去公司開會，趕時間的上班族，因此也要評估客戶想搭乘的時間以及不定時的天氣因素等等。"
   ]
  }
 ],
 "metadata": {
  "anaconda-cloud": {},
  "kernelspec": {
   "display_name": "Python 3",
   "language": "python",
   "name": "python3"
  },
  "language_info": {
   "codemirror_mode": {
    "name": "ipython",
    "version": 3
   },
   "file_extension": ".py",
   "mimetype": "text/x-python",
   "name": "python",
   "nbconvert_exporter": "python",
   "pygments_lexer": "ipython3",
   "version": "3.6.4"
  }
 },
 "nbformat": 4,
 "nbformat_minor": 1
}
